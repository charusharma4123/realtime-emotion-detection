{
 "cells": [
  {
   "cell_type": "code",
   "execution_count": 4,
   "metadata": {
    "execution": {
     "iopub.execute_input": "2024-03-22T16:04:11.342584Z",
     "iopub.status.busy": "2024-03-22T16:04:11.341796Z",
     "iopub.status.idle": "2024-03-22T16:04:11.412534Z",
     "shell.execute_reply": "2024-03-22T16:04:11.411761Z",
     "shell.execute_reply.started": "2024-03-22T16:04:11.342539Z"
    }
   },
   "outputs": [],
   "source": [
    "from keras.utils import to_categorical\n",
    "from keras_preprocessing.image import load_img\n",
    "from keras.models import Sequential\n",
    "from keras.layers import Dense, Conv2D, Dropout, Flatten, MaxPooling2D\n",
    "import os\n",
    "import pandas as pd\n",
    "import numpy as np"
   ]
  },
  {
   "cell_type": "code",
   "execution_count": 5,
   "metadata": {
    "execution": {
     "iopub.execute_input": "2024-03-22T16:04:36.891161Z",
     "iopub.status.busy": "2024-03-22T16:04:36.890097Z",
     "iopub.status.idle": "2024-03-22T16:04:36.895744Z",
     "shell.execute_reply": "2024-03-22T16:04:36.894637Z",
     "shell.execute_reply.started": "2024-03-22T16:04:36.891128Z"
    }
   },
   "outputs": [],
   "source": [
    "# Define relative paths\n",
    "BASE_DIR = os.path.dirname(os.path.abspath(__file__))\n",
    "TRAIN_DIR = os.path.join(BASE_DIR, 'images', 'train')\n",
    "VALIDATION_DIR = os.path.join(BASE_DIR, 'images', 'validation')"
   ]
  },
  {
   "cell_type": "code",
   "execution_count": 6,
   "metadata": {
    "execution": {
     "iopub.execute_input": "2024-03-22T16:05:08.360658Z",
     "iopub.status.busy": "2024-03-22T16:05:08.359972Z",
     "iopub.status.idle": "2024-03-22T16:05:08.367891Z",
     "shell.execute_reply": "2024-03-22T16:05:08.366892Z",
     "shell.execute_reply.started": "2024-03-22T16:05:08.360625Z"
    }
   },
   "outputs": [],
   "source": [
    "import os\n",
    "import pandas as pd\n",
    "\n",
    "def createdataframe(dir):\n",
    "    image_paths = []\n",
    "    labels = []\n",
    "    if not os.path.exists(dir):\n",
    "        raise FileNotFoundError(f\"Directory '{dir}' not found.\")\n",
    "    for label in os.listdir(dir):\n",
    "        label_dir = os.path.join(dir, label)\n",
    "        if os.path.isdir(label_dir):\n",
    "            for imagename in os.listdir(label_dir):\n",
    "                image_paths.append(os.path.join(label_dir, imagename))\n",
    "                labels.append(label)\n",
    "            print(label, \"completed\")\n",
    "        else:\n",
    "            print(f\"Skipping non-directory '{label}' in '{dir}'.\")\n",
    "    return image_paths, labels\n"
   ]
  },
  {
   "cell_type": "code",
   "execution_count": 7,
   "metadata": {
    "execution": {
     "iopub.execute_input": "2024-03-22T16:05:21.412003Z",
     "iopub.status.busy": "2024-03-22T16:05:21.410977Z",
     "iopub.status.idle": "2024-03-22T16:05:23.102104Z",
     "shell.execute_reply": "2024-03-22T16:05:23.101071Z",
     "shell.execute_reply.started": "2024-03-22T16:05:21.411964Z"
    }
   },
   "outputs": [
    {
     "name": "stdout",
     "output_type": "stream",
     "text": [
      "surprise completed\n",
      "fear completed\n",
      "angry completed\n",
      "neutral completed\n",
      "sad completed\n",
      "disgust completed\n",
      "happy completed\n",
      "                                                   image     label\n",
      "0      /kaggle/input/face-expression-recognition-data...  surprise\n",
      "1      /kaggle/input/face-expression-recognition-data...  surprise\n",
      "2      /kaggle/input/face-expression-recognition-data...  surprise\n",
      "3      /kaggle/input/face-expression-recognition-data...  surprise\n",
      "4      /kaggle/input/face-expression-recognition-data...  surprise\n",
      "...                                                  ...       ...\n",
      "28816  /kaggle/input/face-expression-recognition-data...     happy\n",
      "28817  /kaggle/input/face-expression-recognition-data...     happy\n",
      "28818  /kaggle/input/face-expression-recognition-data...     happy\n",
      "28819  /kaggle/input/face-expression-recognition-data...     happy\n",
      "28820  /kaggle/input/face-expression-recognition-data...     happy\n",
      "\n",
      "[28821 rows x 2 columns]\n"
     ]
    }
   ],
   "source": [
    "# Check and create DataFrame for training images\n",
    "train = pd.DataFrame()\n",
    "train['image'], train['label'] = createdataframe(TRAIN_DIR)\n",
    "print(train)"
   ]
  },
  {
   "cell_type": "code",
   "execution_count": 8,
   "metadata": {
    "execution": {
     "iopub.execute_input": "2024-03-22T16:05:33.583274Z",
     "iopub.status.busy": "2024-03-22T16:05:33.582831Z",
     "iopub.status.idle": "2024-03-22T16:05:35.604262Z",
     "shell.execute_reply": "2024-03-22T16:05:35.603195Z",
     "shell.execute_reply.started": "2024-03-22T16:05:33.583243Z"
    }
   },
   "outputs": [
    {
     "name": "stdout",
     "output_type": "stream",
     "text": [
      "surprise completed\n",
      "fear completed\n",
      "angry completed\n",
      "neutral completed\n",
      "sad completed\n",
      "disgust completed\n",
      "happy completed\n",
      "                                                  image     label\n",
      "0     /kaggle/input/face-expression-recognition-data...  surprise\n",
      "1     /kaggle/input/face-expression-recognition-data...  surprise\n",
      "2     /kaggle/input/face-expression-recognition-data...  surprise\n",
      "3     /kaggle/input/face-expression-recognition-data...  surprise\n",
      "4     /kaggle/input/face-expression-recognition-data...  surprise\n",
      "...                                                 ...       ...\n",
      "7061  /kaggle/input/face-expression-recognition-data...     happy\n",
      "7062  /kaggle/input/face-expression-recognition-data...     happy\n",
      "7063  /kaggle/input/face-expression-recognition-data...     happy\n",
      "7064  /kaggle/input/face-expression-recognition-data...     happy\n",
      "7065  /kaggle/input/face-expression-recognition-data...     happy\n",
      "\n",
      "[7066 rows x 2 columns]\n"
     ]
    }
   ],
   "source": [
    "# Check and create DataFrame for test images\n",
    "validation = pd.DataFrame()\n",
    "validation['image'], validation['label'] = createdataframe(VALIDATION_DIR)\n",
    "print(validation)"
   ]
  },
  {
   "cell_type": "code",
   "execution_count": 9,
   "metadata": {
    "execution": {
     "iopub.execute_input": "2024-03-22T16:05:46.455098Z",
     "iopub.status.busy": "2024-03-22T16:05:46.454712Z",
     "iopub.status.idle": "2024-03-22T16:05:46.544653Z",
     "shell.execute_reply": "2024-03-22T16:05:46.543584Z",
     "shell.execute_reply.started": "2024-03-22T16:05:46.455068Z"
    }
   },
   "outputs": [],
   "source": [
    "from tqdm.notebook import tqdm"
   ]
  },
  {
   "cell_type": "code",
   "execution_count": 10,
   "metadata": {
    "execution": {
     "iopub.execute_input": "2024-03-22T16:05:55.563384Z",
     "iopub.status.busy": "2024-03-22T16:05:55.562470Z",
     "iopub.status.idle": "2024-03-22T16:05:55.568837Z",
     "shell.execute_reply": "2024-03-22T16:05:55.567810Z",
     "shell.execute_reply.started": "2024-03-22T16:05:55.563349Z"
    }
   },
   "outputs": [],
   "source": [
    "def extract_features(images):\n",
    "    features = []\n",
    "    for image in tqdm(images):\n",
    "        img = load_img(image,grayscale =  True )\n",
    "        img = np.array(img)\n",
    "        features.append(img)\n",
    "    features = np.array(features)\n",
    "    features = features.reshape(len(features),48,48,1)\n",
    "    return features\n",
    "    "
   ]
  },
  {
   "cell_type": "code",
   "execution_count": 11,
   "metadata": {
    "execution": {
     "iopub.execute_input": "2024-03-22T16:06:04.545410Z",
     "iopub.status.busy": "2024-03-22T16:06:04.545005Z",
     "iopub.status.idle": "2024-03-22T16:07:55.305534Z",
     "shell.execute_reply": "2024-03-22T16:07:55.304661Z",
     "shell.execute_reply.started": "2024-03-22T16:06:04.545379Z"
    }
   },
   "outputs": [
    {
     "data": {
      "application/vnd.jupyter.widget-view+json": {
       "model_id": "9a1c0381b20c4295a99dd0fc51056f14",
       "version_major": 2,
       "version_minor": 0
      },
      "text/plain": [
       "  0%|          | 0/28821 [00:00<?, ?it/s]"
      ]
     },
     "metadata": {},
     "output_type": "display_data"
    },
    {
     "name": "stderr",
     "output_type": "stream",
     "text": [
      "/opt/conda/lib/python3.10/site-packages/keras_preprocessing/image/utils.py:107: UserWarning: grayscale is deprecated. Please use color_mode = \"grayscale\"\n",
      "  warnings.warn('grayscale is deprecated. Please use '\n"
     ]
    }
   ],
   "source": [
    "train_features = extract_features(train['image']) "
   ]
  },
  {
   "cell_type": "code",
   "execution_count": 12,
   "metadata": {
    "execution": {
     "iopub.execute_input": "2024-03-22T16:07:55.307526Z",
     "iopub.status.busy": "2024-03-22T16:07:55.307232Z",
     "iopub.status.idle": "2024-03-22T16:08:43.166179Z",
     "shell.execute_reply": "2024-03-22T16:08:43.165328Z",
     "shell.execute_reply.started": "2024-03-22T16:07:55.307500Z"
    }
   },
   "outputs": [
    {
     "data": {
      "application/vnd.jupyter.widget-view+json": {
       "model_id": "8886ff267d134d33bdf8e07615ebb0ae",
       "version_major": 2,
       "version_minor": 0
      },
      "text/plain": [
       "  0%|          | 0/7066 [00:00<?, ?it/s]"
      ]
     },
     "metadata": {},
     "output_type": "display_data"
    }
   ],
   "source": [
    "validation_features = extract_features(validation['image'])"
   ]
  },
  {
   "cell_type": "code",
   "execution_count": 14,
   "metadata": {
    "execution": {
     "iopub.execute_input": "2024-03-22T16:08:43.371748Z",
     "iopub.status.busy": "2024-03-22T16:08:43.371434Z",
     "iopub.status.idle": "2024-03-22T16:08:43.577219Z",
     "shell.execute_reply": "2024-03-22T16:08:43.576411Z",
     "shell.execute_reply.started": "2024-03-22T16:08:43.371722Z"
    }
   },
   "outputs": [],
   "source": [
    "x_train = train_features/255.0\n",
    "x_test = validation_features/255.0"
   ]
  },
  {
   "cell_type": "code",
   "execution_count": 15,
   "metadata": {
    "execution": {
     "iopub.execute_input": "2024-03-22T16:10:23.398443Z",
     "iopub.status.busy": "2024-03-22T16:10:23.397698Z",
     "iopub.status.idle": "2024-03-22T16:10:24.296885Z",
     "shell.execute_reply": "2024-03-22T16:10:24.296081Z",
     "shell.execute_reply.started": "2024-03-22T16:10:23.398409Z"
    }
   },
   "outputs": [],
   "source": [
    "from sklearn.preprocessing import LabelEncoder"
   ]
  },
  {
   "cell_type": "code",
   "execution_count": 16,
   "metadata": {
    "execution": {
     "iopub.execute_input": "2024-03-22T16:10:25.228738Z",
     "iopub.status.busy": "2024-03-22T16:10:25.227741Z",
     "iopub.status.idle": "2024-03-22T16:10:25.240606Z",
     "shell.execute_reply": "2024-03-22T16:10:25.239567Z",
     "shell.execute_reply.started": "2024-03-22T16:10:25.228703Z"
    }
   },
   "outputs": [
    {
     "data": {
      "text/html": [
       "<style>#sk-container-id-1 {color: black;background-color: white;}#sk-container-id-1 pre{padding: 0;}#sk-container-id-1 div.sk-toggleable {background-color: white;}#sk-container-id-1 label.sk-toggleable__label {cursor: pointer;display: block;width: 100%;margin-bottom: 0;padding: 0.3em;box-sizing: border-box;text-align: center;}#sk-container-id-1 label.sk-toggleable__label-arrow:before {content: \"▸\";float: left;margin-right: 0.25em;color: #696969;}#sk-container-id-1 label.sk-toggleable__label-arrow:hover:before {color: black;}#sk-container-id-1 div.sk-estimator:hover label.sk-toggleable__label-arrow:before {color: black;}#sk-container-id-1 div.sk-toggleable__content {max-height: 0;max-width: 0;overflow: hidden;text-align: left;background-color: #f0f8ff;}#sk-container-id-1 div.sk-toggleable__content pre {margin: 0.2em;color: black;border-radius: 0.25em;background-color: #f0f8ff;}#sk-container-id-1 input.sk-toggleable__control:checked~div.sk-toggleable__content {max-height: 200px;max-width: 100%;overflow: auto;}#sk-container-id-1 input.sk-toggleable__control:checked~label.sk-toggleable__label-arrow:before {content: \"▾\";}#sk-container-id-1 div.sk-estimator input.sk-toggleable__control:checked~label.sk-toggleable__label {background-color: #d4ebff;}#sk-container-id-1 div.sk-label input.sk-toggleable__control:checked~label.sk-toggleable__label {background-color: #d4ebff;}#sk-container-id-1 input.sk-hidden--visually {border: 0;clip: rect(1px 1px 1px 1px);clip: rect(1px, 1px, 1px, 1px);height: 1px;margin: -1px;overflow: hidden;padding: 0;position: absolute;width: 1px;}#sk-container-id-1 div.sk-estimator {font-family: monospace;background-color: #f0f8ff;border: 1px dotted black;border-radius: 0.25em;box-sizing: border-box;margin-bottom: 0.5em;}#sk-container-id-1 div.sk-estimator:hover {background-color: #d4ebff;}#sk-container-id-1 div.sk-parallel-item::after {content: \"\";width: 100%;border-bottom: 1px solid gray;flex-grow: 1;}#sk-container-id-1 div.sk-label:hover label.sk-toggleable__label {background-color: #d4ebff;}#sk-container-id-1 div.sk-serial::before {content: \"\";position: absolute;border-left: 1px solid gray;box-sizing: border-box;top: 0;bottom: 0;left: 50%;z-index: 0;}#sk-container-id-1 div.sk-serial {display: flex;flex-direction: column;align-items: center;background-color: white;padding-right: 0.2em;padding-left: 0.2em;position: relative;}#sk-container-id-1 div.sk-item {position: relative;z-index: 1;}#sk-container-id-1 div.sk-parallel {display: flex;align-items: stretch;justify-content: center;background-color: white;position: relative;}#sk-container-id-1 div.sk-item::before, #sk-container-id-1 div.sk-parallel-item::before {content: \"\";position: absolute;border-left: 1px solid gray;box-sizing: border-box;top: 0;bottom: 0;left: 50%;z-index: -1;}#sk-container-id-1 div.sk-parallel-item {display: flex;flex-direction: column;z-index: 1;position: relative;background-color: white;}#sk-container-id-1 div.sk-parallel-item:first-child::after {align-self: flex-end;width: 50%;}#sk-container-id-1 div.sk-parallel-item:last-child::after {align-self: flex-start;width: 50%;}#sk-container-id-1 div.sk-parallel-item:only-child::after {width: 0;}#sk-container-id-1 div.sk-dashed-wrapped {border: 1px dashed gray;margin: 0 0.4em 0.5em 0.4em;box-sizing: border-box;padding-bottom: 0.4em;background-color: white;}#sk-container-id-1 div.sk-label label {font-family: monospace;font-weight: bold;display: inline-block;line-height: 1.2em;}#sk-container-id-1 div.sk-label-container {text-align: center;}#sk-container-id-1 div.sk-container {/* jupyter's `normalize.less` sets `[hidden] { display: none; }` but bootstrap.min.css set `[hidden] { display: none !important; }` so we also need the `!important` here to be able to override the default hidden behavior on the sphinx rendered scikit-learn.org. See: https://github.com/scikit-learn/scikit-learn/issues/21755 */display: inline-block !important;position: relative;}#sk-container-id-1 div.sk-text-repr-fallback {display: none;}</style><div id=\"sk-container-id-1\" class=\"sk-top-container\"><div class=\"sk-text-repr-fallback\"><pre>LabelEncoder()</pre><b>In a Jupyter environment, please rerun this cell to show the HTML representation or trust the notebook. <br />On GitHub, the HTML representation is unable to render, please try loading this page with nbviewer.org.</b></div><div class=\"sk-container\" hidden><div class=\"sk-item\"><div class=\"sk-estimator sk-toggleable\"><input class=\"sk-toggleable__control sk-hidden--visually\" id=\"sk-estimator-id-1\" type=\"checkbox\" checked><label for=\"sk-estimator-id-1\" class=\"sk-toggleable__label sk-toggleable__label-arrow\">LabelEncoder</label><div class=\"sk-toggleable__content\"><pre>LabelEncoder()</pre></div></div></div></div></div>"
      ],
      "text/plain": [
       "LabelEncoder()"
      ]
     },
     "execution_count": 16,
     "metadata": {},
     "output_type": "execute_result"
    }
   ],
   "source": [
    "le = LabelEncoder()\n",
    "le.fit(train['label'])"
   ]
  },
  {
   "cell_type": "code",
   "execution_count": 17,
   "metadata": {
    "execution": {
     "iopub.execute_input": "2024-03-22T16:10:26.951922Z",
     "iopub.status.busy": "2024-03-22T16:10:26.951287Z",
     "iopub.status.idle": "2024-03-22T16:10:26.964529Z",
     "shell.execute_reply": "2024-03-22T16:10:26.963594Z",
     "shell.execute_reply.started": "2024-03-22T16:10:26.951890Z"
    }
   },
   "outputs": [],
   "source": [
    "y_train = le.transform(train['label'])\n",
    "y_test = le.transform(validation['label'])"
   ]
  },
  {
   "cell_type": "code",
   "execution_count": 18,
   "metadata": {
    "execution": {
     "iopub.execute_input": "2024-03-22T16:10:28.966456Z",
     "iopub.status.busy": "2024-03-22T16:10:28.966096Z",
     "iopub.status.idle": "2024-03-22T16:10:28.972359Z",
     "shell.execute_reply": "2024-03-22T16:10:28.971384Z",
     "shell.execute_reply.started": "2024-03-22T16:10:28.966431Z"
    }
   },
   "outputs": [],
   "source": [
    "y_train = to_categorical(y_train,num_classes = 7)\n",
    "y_test = to_categorical(y_test,num_classes = 7)"
   ]
  },
  {
   "cell_type": "code",
   "execution_count": 19,
   "metadata": {
    "execution": {
     "iopub.execute_input": "2024-03-22T16:10:30.141248Z",
     "iopub.status.busy": "2024-03-22T16:10:30.140245Z",
     "iopub.status.idle": "2024-03-22T16:10:30.980704Z",
     "shell.execute_reply": "2024-03-22T16:10:30.979929Z",
     "shell.execute_reply.started": "2024-03-22T16:10:30.141177Z"
    }
   },
   "outputs": [
    {
     "name": "stderr",
     "output_type": "stream",
     "text": [
      "/opt/conda/lib/python3.10/site-packages/keras/src/layers/convolutional/base_conv.py:99: UserWarning: Do not pass an `input_shape`/`input_dim` argument to a layer. When using Sequential models, prefer using an `Input(shape)` object as the first layer in the model instead.\n",
      "  super().__init__(\n"
     ]
    }
   ],
   "source": [
    "model = Sequential()\n",
    "# convolutional layers\n",
    "model.add(Conv2D(128, kernel_size=(3,3), activation='relu', input_shape=(48,48,1)))\n",
    "model.add(MaxPooling2D(pool_size=(2,2)))\n",
    "model.add(Dropout(0.4))\n",
    "\n",
    "model.add(Conv2D(256, kernel_size=(3,3), activation='relu'))\n",
    "model.add(MaxPooling2D(pool_size=(2,2)))\n",
    "model.add(Dropout(0.4))\n",
    "\n",
    "model.add(Conv2D(512, kernel_size=(3,3), activation='relu'))\n",
    "model.add(MaxPooling2D(pool_size=(2,2)))\n",
    "model.add(Dropout(0.4))\n",
    "\n",
    "model.add(Conv2D(512, kernel_size=(3,3), activation='relu'))\n",
    "model.add(MaxPooling2D(pool_size=(2,2)))\n",
    "model.add(Dropout(0.4))\n",
    "\n",
    "model.add(Flatten())\n",
    "# fully connected layers\n",
    "model.add(Dense(512, activation='relu'))\n",
    "model.add(Dropout(0.4))\n",
    "model.add(Dense(256, activation='relu'))\n",
    "model.add(Dropout(0.3))\n",
    "# output layer\n",
    "model.add(Dense(7, activation='softmax'))"
   ]
  },
  {
   "cell_type": "code",
   "execution_count": 21,
   "metadata": {
    "execution": {
     "iopub.execute_input": "2024-03-22T16:11:37.150236Z",
     "iopub.status.busy": "2024-03-22T16:11:37.149466Z",
     "iopub.status.idle": "2024-03-22T16:11:37.160834Z",
     "shell.execute_reply": "2024-03-22T16:11:37.159827Z",
     "shell.execute_reply.started": "2024-03-22T16:11:37.150201Z"
    }
   },
   "outputs": [],
   "source": [
    "model.compile(optimizer='adam', loss='categorical_crossentropy', metrics=['accuracy'])"
   ]
  },
  {
   "cell_type": "code",
   "execution_count": 22,
   "metadata": {
    "execution": {
     "iopub.execute_input": "2024-03-22T16:11:39.978678Z",
     "iopub.status.busy": "2024-03-22T16:11:39.977980Z",
     "iopub.status.idle": "2024-03-22T16:21:11.353318Z",
     "shell.execute_reply": "2024-03-22T16:21:11.352372Z",
     "shell.execute_reply.started": "2024-03-22T16:11:39.978643Z"
    }
   },
   "outputs": [
    {
     "name": "stdout",
     "output_type": "stream",
     "text": [
      "Epoch 1/100\n",
      "\u001b[1m  6/226\u001b[0m \u001b[37m━━━━━━━━━━━━━━━━━━━━\u001b[0m \u001b[1m5s\u001b[0m 25ms/step - accuracy: 0.2014 - loss: 1.9464 "
     ]
    },
    {
     "name": "stderr",
     "output_type": "stream",
     "text": [
      "WARNING: All log messages before absl::InitializeLog() is called are written to STDERR\n",
      "I0000 00:00:1711123916.223879      91 device_compiler.h:186] Compiled cluster using XLA!  This line is logged at most once for the lifetime of the process.\n"
     ]
    },
    {
     "name": "stdout",
     "output_type": "stream",
     "text": [
      "\u001b[1m226/226\u001b[0m \u001b[32m━━━━━━━━━━━━━━━━━━━━\u001b[0m\u001b[37m\u001b[0m \u001b[1m32s\u001b[0m 74ms/step - accuracy: 0.2359 - loss: 1.8412 - val_accuracy: 0.2583 - val_loss: 1.8151\n",
      "Epoch 2/100\n",
      "\u001b[1m226/226\u001b[0m \u001b[32m━━━━━━━━━━━━━━━━━━━━\u001b[0m\u001b[37m\u001b[0m \u001b[1m5s\u001b[0m 24ms/step - accuracy: 0.2239 - loss: 1.8303 - val_accuracy: 0.2566 - val_loss: 1.8121\n",
      "Epoch 3/100\n",
      "\u001b[1m226/226\u001b[0m \u001b[32m━━━━━━━━━━━━━━━━━━━━\u001b[0m\u001b[37m\u001b[0m \u001b[1m5s\u001b[0m 24ms/step - accuracy: 0.2504 - loss: 1.7954 - val_accuracy: 0.2934 - val_loss: 1.7166\n",
      "Epoch 4/100\n",
      "\u001b[1m226/226\u001b[0m \u001b[32m━━━━━━━━━━━━━━━━━━━━\u001b[0m\u001b[37m\u001b[0m \u001b[1m5s\u001b[0m 24ms/step - accuracy: 0.2871 - loss: 1.7358 - val_accuracy: 0.3208 - val_loss: 1.6781\n",
      "Epoch 5/100\n",
      "\u001b[1m226/226\u001b[0m \u001b[32m━━━━━━━━━━━━━━━━━━━━\u001b[0m\u001b[37m\u001b[0m \u001b[1m5s\u001b[0m 24ms/step - accuracy: 0.3018 - loss: 1.7032 - val_accuracy: 0.3491 - val_loss: 1.6303\n",
      "Epoch 6/100\n",
      "\u001b[1m226/226\u001b[0m \u001b[32m━━━━━━━━━━━━━━━━━━━━\u001b[0m\u001b[37m\u001b[0m \u001b[1m5s\u001b[0m 24ms/step - accuracy: 0.3216 - loss: 1.6705 - val_accuracy: 0.3295 - val_loss: 1.6566\n",
      "Epoch 7/100\n",
      "\u001b[1m226/226\u001b[0m \u001b[32m━━━━━━━━━━━━━━━━━━━━\u001b[0m\u001b[37m\u001b[0m \u001b[1m5s\u001b[0m 24ms/step - accuracy: 0.3567 - loss: 1.6160 - val_accuracy: 0.4278 - val_loss: 1.4537\n",
      "Epoch 8/100\n",
      "\u001b[1m226/226\u001b[0m \u001b[32m━━━━━━━━━━━━━━━━━━━━\u001b[0m\u001b[37m\u001b[0m \u001b[1m5s\u001b[0m 24ms/step - accuracy: 0.3906 - loss: 1.5555 - val_accuracy: 0.4316 - val_loss: 1.4604\n",
      "Epoch 9/100\n",
      "\u001b[1m226/226\u001b[0m \u001b[32m━━━━━━━━━━━━━━━━━━━━\u001b[0m\u001b[37m\u001b[0m \u001b[1m5s\u001b[0m 24ms/step - accuracy: 0.4134 - loss: 1.5075 - val_accuracy: 0.4585 - val_loss: 1.3780\n",
      "Epoch 10/100\n",
      "\u001b[1m226/226\u001b[0m \u001b[32m━━━━━━━━━━━━━━━━━━━━\u001b[0m\u001b[37m\u001b[0m \u001b[1m5s\u001b[0m 24ms/step - accuracy: 0.4363 - loss: 1.4611 - val_accuracy: 0.4837 - val_loss: 1.3312\n",
      "Epoch 11/100\n",
      "\u001b[1m226/226\u001b[0m \u001b[32m━━━━━━━━━━━━━━━━━━━━\u001b[0m\u001b[37m\u001b[0m \u001b[1m5s\u001b[0m 24ms/step - accuracy: 0.4434 - loss: 1.4517 - val_accuracy: 0.5042 - val_loss: 1.2866\n",
      "Epoch 12/100\n",
      "\u001b[1m226/226\u001b[0m \u001b[32m━━━━━━━━━━━━━━━━━━━━\u001b[0m\u001b[37m\u001b[0m \u001b[1m5s\u001b[0m 24ms/step - accuracy: 0.4512 - loss: 1.4114 - val_accuracy: 0.5089 - val_loss: 1.2807\n",
      "Epoch 13/100\n",
      "\u001b[1m226/226\u001b[0m \u001b[32m━━━━━━━━━━━━━━━━━━━━\u001b[0m\u001b[37m\u001b[0m \u001b[1m5s\u001b[0m 24ms/step - accuracy: 0.4659 - loss: 1.3935 - val_accuracy: 0.5052 - val_loss: 1.2701\n",
      "Epoch 14/100\n",
      "\u001b[1m226/226\u001b[0m \u001b[32m━━━━━━━━━━━━━━━━━━━━\u001b[0m\u001b[37m\u001b[0m \u001b[1m5s\u001b[0m 24ms/step - accuracy: 0.4728 - loss: 1.3701 - val_accuracy: 0.5133 - val_loss: 1.2524\n",
      "Epoch 15/100\n",
      "\u001b[1m226/226\u001b[0m \u001b[32m━━━━━━━━━━━━━━━━━━━━\u001b[0m\u001b[37m\u001b[0m \u001b[1m5s\u001b[0m 24ms/step - accuracy: 0.4814 - loss: 1.3557 - val_accuracy: 0.5166 - val_loss: 1.2359\n",
      "Epoch 16/100\n",
      "\u001b[1m226/226\u001b[0m \u001b[32m━━━━━━━━━━━━━━━━━━━━\u001b[0m\u001b[37m\u001b[0m \u001b[1m5s\u001b[0m 24ms/step - accuracy: 0.4835 - loss: 1.3522 - val_accuracy: 0.5201 - val_loss: 1.2269\n",
      "Epoch 17/100\n",
      "\u001b[1m226/226\u001b[0m \u001b[32m━━━━━━━━━━━━━━━━━━━━\u001b[0m\u001b[37m\u001b[0m \u001b[1m5s\u001b[0m 24ms/step - accuracy: 0.4855 - loss: 1.3398 - val_accuracy: 0.5265 - val_loss: 1.2159\n",
      "Epoch 18/100\n",
      "\u001b[1m226/226\u001b[0m \u001b[32m━━━━━━━━━━━━━━━━━━━━\u001b[0m\u001b[37m\u001b[0m \u001b[1m5s\u001b[0m 24ms/step - accuracy: 0.4962 - loss: 1.3152 - val_accuracy: 0.5444 - val_loss: 1.1825\n",
      "Epoch 19/100\n",
      "\u001b[1m226/226\u001b[0m \u001b[32m━━━━━━━━━━━━━━━━━━━━\u001b[0m\u001b[37m\u001b[0m \u001b[1m5s\u001b[0m 24ms/step - accuracy: 0.5004 - loss: 1.3112 - val_accuracy: 0.5399 - val_loss: 1.1835\n",
      "Epoch 20/100\n",
      "\u001b[1m226/226\u001b[0m \u001b[32m━━━━━━━━━━━━━━━━━━━━\u001b[0m\u001b[37m\u001b[0m \u001b[1m5s\u001b[0m 24ms/step - accuracy: 0.4999 - loss: 1.3000 - val_accuracy: 0.5449 - val_loss: 1.1801\n",
      "Epoch 21/100\n",
      "\u001b[1m226/226\u001b[0m \u001b[32m━━━━━━━━━━━━━━━━━━━━\u001b[0m\u001b[37m\u001b[0m \u001b[1m5s\u001b[0m 24ms/step - accuracy: 0.5122 - loss: 1.2782 - val_accuracy: 0.5422 - val_loss: 1.1970\n",
      "Epoch 22/100\n",
      "\u001b[1m226/226\u001b[0m \u001b[32m━━━━━━━━━━━━━━━━━━━━\u001b[0m\u001b[37m\u001b[0m \u001b[1m5s\u001b[0m 24ms/step - accuracy: 0.5133 - loss: 1.2840 - val_accuracy: 0.5517 - val_loss: 1.1571\n",
      "Epoch 23/100\n",
      "\u001b[1m226/226\u001b[0m \u001b[32m━━━━━━━━━━━━━━━━━━━━\u001b[0m\u001b[37m\u001b[0m \u001b[1m5s\u001b[0m 24ms/step - accuracy: 0.5179 - loss: 1.2662 - val_accuracy: 0.5549 - val_loss: 1.1506\n",
      "Epoch 24/100\n",
      "\u001b[1m226/226\u001b[0m \u001b[32m━━━━━━━━━━━━━━━━━━━━\u001b[0m\u001b[37m\u001b[0m \u001b[1m5s\u001b[0m 24ms/step - accuracy: 0.5260 - loss: 1.2548 - val_accuracy: 0.5593 - val_loss: 1.1487\n",
      "Epoch 25/100\n",
      "\u001b[1m226/226\u001b[0m \u001b[32m━━━━━━━━━━━━━━━━━━━━\u001b[0m\u001b[37m\u001b[0m \u001b[1m5s\u001b[0m 24ms/step - accuracy: 0.5239 - loss: 1.2538 - val_accuracy: 0.5633 - val_loss: 1.1395\n",
      "Epoch 26/100\n",
      "\u001b[1m226/226\u001b[0m \u001b[32m━━━━━━━━━━━━━━━━━━━━\u001b[0m\u001b[37m\u001b[0m \u001b[1m5s\u001b[0m 24ms/step - accuracy: 0.5236 - loss: 1.2562 - val_accuracy: 0.5635 - val_loss: 1.1471\n",
      "Epoch 27/100\n",
      "\u001b[1m226/226\u001b[0m \u001b[32m━━━━━━━━━━━━━━━━━━━━\u001b[0m\u001b[37m\u001b[0m \u001b[1m5s\u001b[0m 24ms/step - accuracy: 0.5355 - loss: 1.2267 - val_accuracy: 0.5587 - val_loss: 1.1420\n",
      "Epoch 28/100\n",
      "\u001b[1m226/226\u001b[0m \u001b[32m━━━━━━━━━━━━━━━━━━━━\u001b[0m\u001b[37m\u001b[0m \u001b[1m5s\u001b[0m 24ms/step - accuracy: 0.5244 - loss: 1.2505 - val_accuracy: 0.5703 - val_loss: 1.1386\n",
      "Epoch 29/100\n",
      "\u001b[1m226/226\u001b[0m \u001b[32m━━━━━━━━━━━━━━━━━━━━\u001b[0m\u001b[37m\u001b[0m \u001b[1m5s\u001b[0m 24ms/step - accuracy: 0.5306 - loss: 1.2267 - val_accuracy: 0.5689 - val_loss: 1.1249\n",
      "Epoch 30/100\n",
      "\u001b[1m226/226\u001b[0m \u001b[32m━━━━━━━━━━━━━━━━━━━━\u001b[0m\u001b[37m\u001b[0m \u001b[1m5s\u001b[0m 24ms/step - accuracy: 0.5398 - loss: 1.2240 - val_accuracy: 0.5719 - val_loss: 1.1225\n",
      "Epoch 31/100\n",
      "\u001b[1m226/226\u001b[0m \u001b[32m━━━━━━━━━━━━━━━━━━━━\u001b[0m\u001b[37m\u001b[0m \u001b[1m5s\u001b[0m 24ms/step - accuracy: 0.5376 - loss: 1.2074 - val_accuracy: 0.5776 - val_loss: 1.1154\n",
      "Epoch 32/100\n",
      "\u001b[1m226/226\u001b[0m \u001b[32m━━━━━━━━━━━━━━━━━━━━\u001b[0m\u001b[37m\u001b[0m \u001b[1m5s\u001b[0m 24ms/step - accuracy: 0.5401 - loss: 1.2048 - val_accuracy: 0.5720 - val_loss: 1.1271\n",
      "Epoch 33/100\n",
      "\u001b[1m226/226\u001b[0m \u001b[32m━━━━━━━━━━━━━━━━━━━━\u001b[0m\u001b[37m\u001b[0m \u001b[1m5s\u001b[0m 24ms/step - accuracy: 0.5421 - loss: 1.1929 - val_accuracy: 0.5667 - val_loss: 1.1290\n",
      "Epoch 34/100\n",
      "\u001b[1m226/226\u001b[0m \u001b[32m━━━━━━━━━━━━━━━━━━━━\u001b[0m\u001b[37m\u001b[0m \u001b[1m5s\u001b[0m 24ms/step - accuracy: 0.5475 - loss: 1.1957 - val_accuracy: 0.5768 - val_loss: 1.1026\n",
      "Epoch 35/100\n",
      "\u001b[1m226/226\u001b[0m \u001b[32m━━━━━━━━━━━━━━━━━━━━\u001b[0m\u001b[37m\u001b[0m \u001b[1m5s\u001b[0m 24ms/step - accuracy: 0.5504 - loss: 1.1824 - val_accuracy: 0.5807 - val_loss: 1.1074\n",
      "Epoch 36/100\n",
      "\u001b[1m226/226\u001b[0m \u001b[32m━━━━━━━━━━━━━━━━━━━━\u001b[0m\u001b[37m\u001b[0m \u001b[1m5s\u001b[0m 24ms/step - accuracy: 0.5505 - loss: 1.1791 - val_accuracy: 0.5838 - val_loss: 1.0976\n",
      "Epoch 37/100\n",
      "\u001b[1m226/226\u001b[0m \u001b[32m━━━━━━━━━━━━━━━━━━━━\u001b[0m\u001b[37m\u001b[0m \u001b[1m5s\u001b[0m 24ms/step - accuracy: 0.5566 - loss: 1.1732 - val_accuracy: 0.5829 - val_loss: 1.0909\n",
      "Epoch 38/100\n",
      "\u001b[1m226/226\u001b[0m \u001b[32m━━━━━━━━━━━━━━━━━━━━\u001b[0m\u001b[37m\u001b[0m \u001b[1m5s\u001b[0m 24ms/step - accuracy: 0.5611 - loss: 1.1604 - val_accuracy: 0.5846 - val_loss: 1.0896\n",
      "Epoch 39/100\n",
      "\u001b[1m226/226\u001b[0m \u001b[32m━━━━━━━━━━━━━━━━━━━━\u001b[0m\u001b[37m\u001b[0m \u001b[1m5s\u001b[0m 24ms/step - accuracy: 0.5621 - loss: 1.1550 - val_accuracy: 0.5821 - val_loss: 1.0960\n",
      "Epoch 40/100\n",
      "\u001b[1m226/226\u001b[0m \u001b[32m━━━━━━━━━━━━━━━━━━━━\u001b[0m\u001b[37m\u001b[0m \u001b[1m5s\u001b[0m 24ms/step - accuracy: 0.5610 - loss: 1.1428 - val_accuracy: 0.5875 - val_loss: 1.0865\n",
      "Epoch 41/100\n",
      "\u001b[1m226/226\u001b[0m \u001b[32m━━━━━━━━━━━━━━━━━━━━\u001b[0m\u001b[37m\u001b[0m \u001b[1m5s\u001b[0m 24ms/step - accuracy: 0.5682 - loss: 1.1517 - val_accuracy: 0.5875 - val_loss: 1.0921\n",
      "Epoch 42/100\n",
      "\u001b[1m226/226\u001b[0m \u001b[32m━━━━━━━━━━━━━━━━━━━━\u001b[0m\u001b[37m\u001b[0m \u001b[1m5s\u001b[0m 24ms/step - accuracy: 0.5653 - loss: 1.1507 - val_accuracy: 0.5926 - val_loss: 1.0694\n",
      "Epoch 43/100\n",
      "\u001b[1m226/226\u001b[0m \u001b[32m━━━━━━━━━━━━━━━━━━━━\u001b[0m\u001b[37m\u001b[0m \u001b[1m5s\u001b[0m 24ms/step - accuracy: 0.5731 - loss: 1.1397 - val_accuracy: 0.5764 - val_loss: 1.0997\n",
      "Epoch 44/100\n",
      "\u001b[1m226/226\u001b[0m \u001b[32m━━━━━━━━━━━━━━━━━━━━\u001b[0m\u001b[37m\u001b[0m \u001b[1m5s\u001b[0m 24ms/step - accuracy: 0.5729 - loss: 1.1418 - val_accuracy: 0.5843 - val_loss: 1.0786\n",
      "Epoch 45/100\n",
      "\u001b[1m226/226\u001b[0m \u001b[32m━━━━━━━━━━━━━━━━━━━━\u001b[0m\u001b[37m\u001b[0m \u001b[1m5s\u001b[0m 24ms/step - accuracy: 0.5724 - loss: 1.1273 - val_accuracy: 0.5921 - val_loss: 1.0725\n",
      "Epoch 46/100\n",
      "\u001b[1m226/226\u001b[0m \u001b[32m━━━━━━━━━━━━━━━━━━━━\u001b[0m\u001b[37m\u001b[0m \u001b[1m5s\u001b[0m 24ms/step - accuracy: 0.5696 - loss: 1.1310 - val_accuracy: 0.5894 - val_loss: 1.0654\n",
      "Epoch 47/100\n",
      "\u001b[1m226/226\u001b[0m \u001b[32m━━━━━━━━━━━━━━━━━━━━\u001b[0m\u001b[37m\u001b[0m \u001b[1m5s\u001b[0m 24ms/step - accuracy: 0.5792 - loss: 1.1162 - val_accuracy: 0.5872 - val_loss: 1.0832\n",
      "Epoch 48/100\n",
      "\u001b[1m226/226\u001b[0m \u001b[32m━━━━━━━━━━━━━━━━━━━━\u001b[0m\u001b[37m\u001b[0m \u001b[1m5s\u001b[0m 24ms/step - accuracy: 0.5806 - loss: 1.1187 - val_accuracy: 0.5917 - val_loss: 1.0672\n",
      "Epoch 49/100\n",
      "\u001b[1m226/226\u001b[0m \u001b[32m━━━━━━━━━━━━━━━━━━━━\u001b[0m\u001b[37m\u001b[0m \u001b[1m5s\u001b[0m 24ms/step - accuracy: 0.5820 - loss: 1.1132 - val_accuracy: 0.5969 - val_loss: 1.0598\n",
      "Epoch 50/100\n",
      "\u001b[1m226/226\u001b[0m \u001b[32m━━━━━━━━━━━━━━━━━━━━\u001b[0m\u001b[37m\u001b[0m \u001b[1m5s\u001b[0m 24ms/step - accuracy: 0.5842 - loss: 1.0982 - val_accuracy: 0.5968 - val_loss: 1.0635\n",
      "Epoch 51/100\n",
      "\u001b[1m226/226\u001b[0m \u001b[32m━━━━━━━━━━━━━━━━━━━━\u001b[0m\u001b[37m\u001b[0m \u001b[1m5s\u001b[0m 24ms/step - accuracy: 0.5876 - loss: 1.0931 - val_accuracy: 0.5938 - val_loss: 1.0670\n",
      "Epoch 52/100\n",
      "\u001b[1m226/226\u001b[0m \u001b[32m━━━━━━━━━━━━━━━━━━━━\u001b[0m\u001b[37m\u001b[0m \u001b[1m5s\u001b[0m 24ms/step - accuracy: 0.5840 - loss: 1.0986 - val_accuracy: 0.6040 - val_loss: 1.0515\n",
      "Epoch 53/100\n",
      "\u001b[1m226/226\u001b[0m \u001b[32m━━━━━━━━━━━━━━━━━━━━\u001b[0m\u001b[37m\u001b[0m \u001b[1m5s\u001b[0m 24ms/step - accuracy: 0.5910 - loss: 1.0877 - val_accuracy: 0.6018 - val_loss: 1.0488\n",
      "Epoch 54/100\n",
      "\u001b[1m226/226\u001b[0m \u001b[32m━━━━━━━━━━━━━━━━━━━━\u001b[0m\u001b[37m\u001b[0m \u001b[1m5s\u001b[0m 24ms/step - accuracy: 0.5842 - loss: 1.1016 - val_accuracy: 0.5958 - val_loss: 1.0595\n",
      "Epoch 55/100\n",
      "\u001b[1m226/226\u001b[0m \u001b[32m━━━━━━━━━━━━━━━━━━━━\u001b[0m\u001b[37m\u001b[0m \u001b[1m5s\u001b[0m 24ms/step - accuracy: 0.5876 - loss: 1.0959 - val_accuracy: 0.6025 - val_loss: 1.0531\n",
      "Epoch 56/100\n",
      "\u001b[1m226/226\u001b[0m \u001b[32m━━━━━━━━━━━━━━━━━━━━\u001b[0m\u001b[37m\u001b[0m \u001b[1m5s\u001b[0m 24ms/step - accuracy: 0.5934 - loss: 1.0800 - val_accuracy: 0.6008 - val_loss: 1.0648\n",
      "Epoch 57/100\n",
      "\u001b[1m226/226\u001b[0m \u001b[32m━━━━━━━━━━━━━━━━━━━━\u001b[0m\u001b[37m\u001b[0m \u001b[1m5s\u001b[0m 24ms/step - accuracy: 0.5928 - loss: 1.0705 - val_accuracy: 0.5981 - val_loss: 1.0616\n",
      "Epoch 58/100\n",
      "\u001b[1m226/226\u001b[0m \u001b[32m━━━━━━━━━━━━━━━━━━━━\u001b[0m\u001b[37m\u001b[0m \u001b[1m5s\u001b[0m 24ms/step - accuracy: 0.5951 - loss: 1.0698 - val_accuracy: 0.6059 - val_loss: 1.0427\n",
      "Epoch 59/100\n",
      "\u001b[1m226/226\u001b[0m \u001b[32m━━━━━━━━━━━━━━━━━━━━\u001b[0m\u001b[37m\u001b[0m \u001b[1m5s\u001b[0m 24ms/step - accuracy: 0.6063 - loss: 1.0448 - val_accuracy: 0.5968 - val_loss: 1.0521\n",
      "Epoch 60/100\n",
      "\u001b[1m226/226\u001b[0m \u001b[32m━━━━━━━━━━━━━━━━━━━━\u001b[0m\u001b[37m\u001b[0m \u001b[1m5s\u001b[0m 24ms/step - accuracy: 0.5981 - loss: 1.0636 - val_accuracy: 0.6052 - val_loss: 1.0414\n",
      "Epoch 61/100\n",
      "\u001b[1m226/226\u001b[0m \u001b[32m━━━━━━━━━━━━━━━━━━━━\u001b[0m\u001b[37m\u001b[0m \u001b[1m5s\u001b[0m 24ms/step - accuracy: 0.5982 - loss: 1.0617 - val_accuracy: 0.6077 - val_loss: 1.0441\n",
      "Epoch 62/100\n",
      "\u001b[1m226/226\u001b[0m \u001b[32m━━━━━━━━━━━━━━━━━━━━\u001b[0m\u001b[37m\u001b[0m \u001b[1m5s\u001b[0m 24ms/step - accuracy: 0.6054 - loss: 1.0470 - val_accuracy: 0.6098 - val_loss: 1.0370\n",
      "Epoch 63/100\n",
      "\u001b[1m226/226\u001b[0m \u001b[32m━━━━━━━━━━━━━━━━━━━━\u001b[0m\u001b[37m\u001b[0m \u001b[1m5s\u001b[0m 24ms/step - accuracy: 0.6002 - loss: 1.0570 - val_accuracy: 0.6052 - val_loss: 1.0453\n",
      "Epoch 64/100\n",
      "\u001b[1m226/226\u001b[0m \u001b[32m━━━━━━━━━━━━━━━━━━━━\u001b[0m\u001b[37m\u001b[0m \u001b[1m5s\u001b[0m 24ms/step - accuracy: 0.6091 - loss: 1.0408 - val_accuracy: 0.6077 - val_loss: 1.0414\n",
      "Epoch 65/100\n",
      "\u001b[1m226/226\u001b[0m \u001b[32m━━━━━━━━━━━━━━━━━━━━\u001b[0m\u001b[37m\u001b[0m \u001b[1m5s\u001b[0m 24ms/step - accuracy: 0.6078 - loss: 1.0420 - val_accuracy: 0.6121 - val_loss: 1.0307\n",
      "Epoch 66/100\n",
      "\u001b[1m226/226\u001b[0m \u001b[32m━━━━━━━━━━━━━━━━━━━━\u001b[0m\u001b[37m\u001b[0m \u001b[1m5s\u001b[0m 24ms/step - accuracy: 0.6101 - loss: 1.0363 - val_accuracy: 0.6110 - val_loss: 1.0307\n",
      "Epoch 67/100\n",
      "\u001b[1m226/226\u001b[0m \u001b[32m━━━━━━━━━━━━━━━━━━━━\u001b[0m\u001b[37m\u001b[0m \u001b[1m5s\u001b[0m 24ms/step - accuracy: 0.6105 - loss: 1.0316 - val_accuracy: 0.6121 - val_loss: 1.0294\n",
      "Epoch 68/100\n",
      "\u001b[1m226/226\u001b[0m \u001b[32m━━━━━━━━━━━━━━━━━━━━\u001b[0m\u001b[37m\u001b[0m \u001b[1m5s\u001b[0m 24ms/step - accuracy: 0.6206 - loss: 1.0182 - val_accuracy: 0.6070 - val_loss: 1.0445\n",
      "Epoch 69/100\n",
      "\u001b[1m226/226\u001b[0m \u001b[32m━━━━━━━━━━━━━━━━━━━━\u001b[0m\u001b[37m\u001b[0m \u001b[1m5s\u001b[0m 24ms/step - accuracy: 0.6150 - loss: 1.0326 - val_accuracy: 0.6064 - val_loss: 1.0449\n",
      "Epoch 70/100\n",
      "\u001b[1m226/226\u001b[0m \u001b[32m━━━━━━━━━━━━━━━━━━━━\u001b[0m\u001b[37m\u001b[0m \u001b[1m5s\u001b[0m 24ms/step - accuracy: 0.6131 - loss: 1.0363 - val_accuracy: 0.6139 - val_loss: 1.0281\n",
      "Epoch 71/100\n",
      "\u001b[1m226/226\u001b[0m \u001b[32m━━━━━━━━━━━━━━━━━━━━\u001b[0m\u001b[37m\u001b[0m \u001b[1m5s\u001b[0m 24ms/step - accuracy: 0.6093 - loss: 1.0391 - val_accuracy: 0.6091 - val_loss: 1.0435\n",
      "Epoch 72/100\n",
      "\u001b[1m226/226\u001b[0m \u001b[32m━━━━━━━━━━━━━━━━━━━━\u001b[0m\u001b[37m\u001b[0m \u001b[1m5s\u001b[0m 24ms/step - accuracy: 0.6168 - loss: 1.0223 - val_accuracy: 0.6200 - val_loss: 1.0245\n",
      "Epoch 73/100\n",
      "\u001b[1m226/226\u001b[0m \u001b[32m━━━━━━━━━━━━━━━━━━━━\u001b[0m\u001b[37m\u001b[0m \u001b[1m5s\u001b[0m 24ms/step - accuracy: 0.6186 - loss: 1.0128 - val_accuracy: 0.6122 - val_loss: 1.0360\n",
      "Epoch 74/100\n",
      "\u001b[1m226/226\u001b[0m \u001b[32m━━━━━━━━━━━━━━━━━━━━\u001b[0m\u001b[37m\u001b[0m \u001b[1m5s\u001b[0m 24ms/step - accuracy: 0.6215 - loss: 1.0042 - val_accuracy: 0.6132 - val_loss: 1.0367\n",
      "Epoch 75/100\n",
      "\u001b[1m226/226\u001b[0m \u001b[32m━━━━━━━━━━━━━━━━━━━━\u001b[0m\u001b[37m\u001b[0m \u001b[1m5s\u001b[0m 24ms/step - accuracy: 0.6187 - loss: 1.0225 - val_accuracy: 0.6107 - val_loss: 1.0295\n",
      "Epoch 76/100\n",
      "\u001b[1m226/226\u001b[0m \u001b[32m━━━━━━━━━━━━━━━━━━━━\u001b[0m\u001b[37m\u001b[0m \u001b[1m5s\u001b[0m 24ms/step - accuracy: 0.6199 - loss: 1.0114 - val_accuracy: 0.6131 - val_loss: 1.0243\n",
      "Epoch 77/100\n",
      "\u001b[1m226/226\u001b[0m \u001b[32m━━━━━━━━━━━━━━━━━━━━\u001b[0m\u001b[37m\u001b[0m \u001b[1m5s\u001b[0m 24ms/step - accuracy: 0.6310 - loss: 0.9889 - val_accuracy: 0.6177 - val_loss: 1.0295\n",
      "Epoch 78/100\n",
      "\u001b[1m226/226\u001b[0m \u001b[32m━━━━━━━━━━━━━━━━━━━━\u001b[0m\u001b[37m\u001b[0m \u001b[1m5s\u001b[0m 24ms/step - accuracy: 0.6257 - loss: 0.9956 - val_accuracy: 0.6145 - val_loss: 1.0174\n",
      "Epoch 79/100\n",
      "\u001b[1m226/226\u001b[0m \u001b[32m━━━━━━━━━━━━━━━━━━━━\u001b[0m\u001b[37m\u001b[0m \u001b[1m5s\u001b[0m 24ms/step - accuracy: 0.6198 - loss: 1.0016 - val_accuracy: 0.6148 - val_loss: 1.0226\n",
      "Epoch 80/100\n",
      "\u001b[1m226/226\u001b[0m \u001b[32m━━━━━━━━━━━━━━━━━━━━\u001b[0m\u001b[37m\u001b[0m \u001b[1m5s\u001b[0m 24ms/step - accuracy: 0.6304 - loss: 0.9863 - val_accuracy: 0.6192 - val_loss: 1.0146\n",
      "Epoch 81/100\n",
      "\u001b[1m226/226\u001b[0m \u001b[32m━━━━━━━━━━━━━━━━━━━━\u001b[0m\u001b[37m\u001b[0m \u001b[1m5s\u001b[0m 24ms/step - accuracy: 0.6333 - loss: 0.9794 - val_accuracy: 0.6112 - val_loss: 1.0293\n",
      "Epoch 82/100\n",
      "\u001b[1m226/226\u001b[0m \u001b[32m━━━━━━━━━━━━━━━━━━━━\u001b[0m\u001b[37m\u001b[0m \u001b[1m5s\u001b[0m 24ms/step - accuracy: 0.6254 - loss: 0.9963 - val_accuracy: 0.6129 - val_loss: 1.0281\n",
      "Epoch 83/100\n",
      "\u001b[1m226/226\u001b[0m \u001b[32m━━━━━━━━━━━━━━━━━━━━\u001b[0m\u001b[37m\u001b[0m \u001b[1m5s\u001b[0m 24ms/step - accuracy: 0.6290 - loss: 0.9863 - val_accuracy: 0.6194 - val_loss: 1.0218\n",
      "Epoch 84/100\n",
      "\u001b[1m226/226\u001b[0m \u001b[32m━━━━━━━━━━━━━━━━━━━━\u001b[0m\u001b[37m\u001b[0m \u001b[1m5s\u001b[0m 24ms/step - accuracy: 0.6390 - loss: 0.9562 - val_accuracy: 0.6193 - val_loss: 1.0171\n",
      "Epoch 85/100\n",
      "\u001b[1m226/226\u001b[0m \u001b[32m━━━━━━━━━━━━━━━━━━━━\u001b[0m\u001b[37m\u001b[0m \u001b[1m5s\u001b[0m 24ms/step - accuracy: 0.6366 - loss: 0.9683 - val_accuracy: 0.6095 - val_loss: 1.0382\n",
      "Epoch 86/100\n",
      "\u001b[1m226/226\u001b[0m \u001b[32m━━━━━━━━━━━━━━━━━━━━\u001b[0m\u001b[37m\u001b[0m \u001b[1m5s\u001b[0m 24ms/step - accuracy: 0.6403 - loss: 0.9663 - val_accuracy: 0.6200 - val_loss: 1.0217\n",
      "Epoch 87/100\n",
      "\u001b[1m226/226\u001b[0m \u001b[32m━━━━━━━━━━━━━━━━━━━━\u001b[0m\u001b[37m\u001b[0m \u001b[1m5s\u001b[0m 24ms/step - accuracy: 0.6392 - loss: 0.9619 - val_accuracy: 0.6193 - val_loss: 1.0152\n",
      "Epoch 88/100\n",
      "\u001b[1m226/226\u001b[0m \u001b[32m━━━━━━━━━━━━━━━━━━━━\u001b[0m\u001b[37m\u001b[0m \u001b[1m5s\u001b[0m 24ms/step - accuracy: 0.6396 - loss: 0.9717 - val_accuracy: 0.6221 - val_loss: 1.0095\n",
      "Epoch 89/100\n",
      "\u001b[1m226/226\u001b[0m \u001b[32m━━━━━━━━━━━━━━━━━━━━\u001b[0m\u001b[37m\u001b[0m \u001b[1m5s\u001b[0m 24ms/step - accuracy: 0.6410 - loss: 0.9603 - val_accuracy: 0.6177 - val_loss: 1.0138\n",
      "Epoch 90/100\n",
      "\u001b[1m226/226\u001b[0m \u001b[32m━━━━━━━━━━━━━━━━━━━━\u001b[0m\u001b[37m\u001b[0m \u001b[1m5s\u001b[0m 24ms/step - accuracy: 0.6489 - loss: 0.9533 - val_accuracy: 0.6235 - val_loss: 1.0075\n",
      "Epoch 91/100\n",
      "\u001b[1m226/226\u001b[0m \u001b[32m━━━━━━━━━━━━━━━━━━━━\u001b[0m\u001b[37m\u001b[0m \u001b[1m5s\u001b[0m 24ms/step - accuracy: 0.6488 - loss: 0.9563 - val_accuracy: 0.6233 - val_loss: 1.0201\n",
      "Epoch 92/100\n",
      "\u001b[1m226/226\u001b[0m \u001b[32m━━━━━━━━━━━━━━━━━━━━\u001b[0m\u001b[37m\u001b[0m \u001b[1m5s\u001b[0m 24ms/step - accuracy: 0.6367 - loss: 0.9633 - val_accuracy: 0.6156 - val_loss: 1.0268\n",
      "Epoch 93/100\n",
      "\u001b[1m226/226\u001b[0m \u001b[32m━━━━━━━━━━━━━━━━━━━━\u001b[0m\u001b[37m\u001b[0m \u001b[1m5s\u001b[0m 24ms/step - accuracy: 0.6444 - loss: 0.9503 - val_accuracy: 0.6173 - val_loss: 1.0152\n",
      "Epoch 94/100\n",
      "\u001b[1m226/226\u001b[0m \u001b[32m━━━━━━━━━━━━━━━━━━━━\u001b[0m\u001b[37m\u001b[0m \u001b[1m5s\u001b[0m 24ms/step - accuracy: 0.6475 - loss: 0.9445 - val_accuracy: 0.6186 - val_loss: 1.0112\n",
      "Epoch 95/100\n",
      "\u001b[1m226/226\u001b[0m \u001b[32m━━━━━━━━━━━━━━━━━━━━\u001b[0m\u001b[37m\u001b[0m \u001b[1m5s\u001b[0m 24ms/step - accuracy: 0.6459 - loss: 0.9483 - val_accuracy: 0.6226 - val_loss: 1.0179\n",
      "Epoch 96/100\n",
      "\u001b[1m226/226\u001b[0m \u001b[32m━━━━━━━━━━━━━━━━━━━━\u001b[0m\u001b[37m\u001b[0m \u001b[1m5s\u001b[0m 24ms/step - accuracy: 0.6435 - loss: 0.9533 - val_accuracy: 0.6152 - val_loss: 1.0115\n",
      "Epoch 97/100\n",
      "\u001b[1m226/226\u001b[0m \u001b[32m━━━━━━━━━━━━━━━━━━━━\u001b[0m\u001b[37m\u001b[0m \u001b[1m5s\u001b[0m 24ms/step - accuracy: 0.6521 - loss: 0.9316 - val_accuracy: 0.6221 - val_loss: 1.0134\n",
      "Epoch 98/100\n",
      "\u001b[1m226/226\u001b[0m \u001b[32m━━━━━━━━━━━━━━━━━━━━\u001b[0m\u001b[37m\u001b[0m \u001b[1m5s\u001b[0m 24ms/step - accuracy: 0.6561 - loss: 0.9310 - val_accuracy: 0.6211 - val_loss: 1.0157\n",
      "Epoch 99/100\n",
      "\u001b[1m226/226\u001b[0m \u001b[32m━━━━━━━━━━━━━━━━━━━━\u001b[0m\u001b[37m\u001b[0m \u001b[1m5s\u001b[0m 24ms/step - accuracy: 0.6476 - loss: 0.9341 - val_accuracy: 0.6207 - val_loss: 1.0194\n",
      "Epoch 100/100\n",
      "\u001b[1m226/226\u001b[0m \u001b[32m━━━━━━━━━━━━━━━━━━━━\u001b[0m\u001b[37m\u001b[0m \u001b[1m5s\u001b[0m 24ms/step - accuracy: 0.6510 - loss: 0.9350 - val_accuracy: 0.6119 - val_loss: 1.0210\n"
     ]
    },
    {
     "data": {
      "text/plain": [
       "<keras.src.callbacks.history.History at 0x7906e05a3b20>"
      ]
     },
     "execution_count": 22,
     "metadata": {},
     "output_type": "execute_result"
    }
   ],
   "source": [
    "model.fit(x= x_train,y = y_train, batch_size = 128, epochs = 100, validation_data = (x_test,y_test)) "
   ]
  },
  {
   "cell_type": "code",
   "execution_count": 23,
   "metadata": {
    "execution": {
     "iopub.execute_input": "2024-03-22T16:21:15.915370Z",
     "iopub.status.busy": "2024-03-22T16:21:15.914502Z",
     "iopub.status.idle": "2024-03-22T16:21:16.049295Z",
     "shell.execute_reply": "2024-03-22T16:21:16.048255Z",
     "shell.execute_reply.started": "2024-03-22T16:21:15.915333Z"
    }
   },
   "outputs": [],
   "source": [
    "model_json = model.to_json()\n",
    "with open('facialemotionmodel2.json','w') as json_file:\n",
    "    json_file.write(model_json)\n",
    "model.save('facialemotionmodel2.h5')"
   ]
  },
  {
   "cell_type": "code",
   "execution_count": 24,
   "metadata": {
    "execution": {
     "iopub.execute_input": "2024-03-22T16:21:17.766876Z",
     "iopub.status.busy": "2024-03-22T16:21:17.766502Z",
     "iopub.status.idle": "2024-03-22T16:21:17.771561Z",
     "shell.execute_reply": "2024-03-22T16:21:17.770437Z",
     "shell.execute_reply.started": "2024-03-22T16:21:17.766846Z"
    }
   },
   "outputs": [],
   "source": [
    "from keras.models import model_from_json"
   ]
  },
  {
   "cell_type": "code",
   "execution_count": 25,
   "metadata": {
    "execution": {
     "iopub.execute_input": "2024-03-22T16:21:19.546591Z",
     "iopub.status.busy": "2024-03-22T16:21:19.546214Z",
     "iopub.status.idle": "2024-03-22T16:21:19.808110Z",
     "shell.execute_reply": "2024-03-22T16:21:19.807193Z",
     "shell.execute_reply.started": "2024-03-22T16:21:19.546566Z"
    }
   },
   "outputs": [],
   "source": [
    "json_file = open('facialemotionmodel2.json', \"r\")\n",
    "model_json = json_file.read()\n",
    "json_file.close()\n",
    "model = model_from_json(model_json)\n",
    "model.load_weights('facialemotionmodel2.h5')"
   ]
  },
  {
   "cell_type": "code",
   "execution_count": 26,
   "metadata": {
    "execution": {
     "iopub.execute_input": "2024-03-22T16:21:21.298853Z",
     "iopub.status.busy": "2024-03-22T16:21:21.298058Z",
     "iopub.status.idle": "2024-03-22T16:21:21.303101Z",
     "shell.execute_reply": "2024-03-22T16:21:21.302116Z",
     "shell.execute_reply.started": "2024-03-22T16:21:21.298822Z"
    }
   },
   "outputs": [],
   "source": [
    "label = ['angry','disgust','fear','happy','neutral','sad','surprise']"
   ]
  },
  {
   "cell_type": "code",
   "execution_count": 27,
   "metadata": {
    "execution": {
     "iopub.execute_input": "2024-03-22T16:21:24.844697Z",
     "iopub.status.busy": "2024-03-22T16:21:24.843783Z",
     "iopub.status.idle": "2024-03-22T16:21:24.849622Z",
     "shell.execute_reply": "2024-03-22T16:21:24.848580Z",
     "shell.execute_reply.started": "2024-03-22T16:21:24.844661Z"
    }
   },
   "outputs": [],
   "source": [
    "def ef(image):\n",
    "    img = load_img(image,grayscale =  True )\n",
    "    feature = np.array(img)\n",
    "    feature = feature.reshape(1,48,48,1)\n",
    "    return feature/255.0\n",
    "    "
   ]
  },
  {
   "cell_type": "code",
   "execution_count": 29,
   "metadata": {
    "execution": {
     "iopub.execute_input": "2024-03-22T16:21:30.284787Z",
     "iopub.status.busy": "2024-03-22T16:21:30.284449Z",
     "iopub.status.idle": "2024-03-22T16:21:30.290211Z",
     "shell.execute_reply": "2024-03-22T16:21:30.289252Z",
     "shell.execute_reply.started": "2024-03-22T16:21:30.284764Z"
    }
   },
   "outputs": [],
   "source": [
    "import matplotlib.pyplot as plt\n",
    "%matplotlib inline"
   ]
  },
  {
   "cell_type": "code",
   "execution_count": 32,
   "metadata": {
    "execution": {
     "iopub.execute_input": "2024-03-22T16:21:57.154403Z",
     "iopub.status.busy": "2024-03-22T16:21:57.154013Z",
     "iopub.status.idle": "2024-03-22T16:21:57.457098Z",
     "shell.execute_reply": "2024-03-22T16:21:57.456195Z",
     "shell.execute_reply.started": "2024-03-22T16:21:57.154372Z"
    }
   },
   "outputs": [
    {
     "name": "stdout",
     "output_type": "stream",
     "text": [
      "original image is of fear\n",
      "\u001b[1m1/1\u001b[0m \u001b[32m━━━━━━━━━━━━━━━━━━━━\u001b[0m\u001b[37m\u001b[0m \u001b[1m0s\u001b[0m 17ms/step\n",
      "model prediction is  fear\n"
     ]
    },
    {
     "data": {
      "text/plain": [
       "<matplotlib.image.AxesImage at 0x7906d0af9420>"
      ]
     },
     "execution_count": 32,
     "metadata": {},
     "output_type": "execute_result"
    },
    {
     "data": {
      "image/png": "[encoded data removed]",
      "text/plain": [
       "<Figure size 640x480 with 1 Axes>"
      ]
     },
     "metadata": {},
     "output_type": "display_data"
    }
   ],
   "source": [
    "image = os.path.join(BASE_DIR, 'images', 'train', 'fear', '2.jpg')\n",
    "print(\"original image is of fear\")\n",
    "img = ef(image)\n",
    "pred = model.predict(img)\n",
    "pred_label = label[pred.argmax()]\n",
    "print(\"model prediction is \",pred_label)\n",
    "plt.imshow(img.reshape(48,48),cmap='gray')"
   ]
  },
  {
   "cell_type": "code",
   "execution_count": null,
   "metadata": {},
   "outputs": [],
   "source": []
  }
 ],
 "metadata": {
  "kaggle": {
   "accelerator": "gpu",
   "dataSources": [
    {
     "datasetId": 99505,
     "sourceId": 234911,
     "sourceType": "datasetVersion"
    }
   ],
   "dockerImageVersionId": 30674,
   "isGpuEnabled": true,
   "isInternetEnabled": true,
   "language": "python",
   "sourceType": "notebook"
  },
  "kernelspec": {
   "display_name": "Python 3 (ipykernel)",
   "language": "python",
   "name": "python3"
  },
  "language_info": {
   "codemirror_mode": {
    "name": "ipython",
    "version": 3
   },
   "file_extension": ".py",
   "mimetype": "text/x-python",
   "name": "python",
   "nbconvert_exporter": "python",
   "pygments_lexer": "ipython3",
   "version": "3.11.3"
  }
 },
 "nbformat": 4,
 "nbformat_minor": 4
}
